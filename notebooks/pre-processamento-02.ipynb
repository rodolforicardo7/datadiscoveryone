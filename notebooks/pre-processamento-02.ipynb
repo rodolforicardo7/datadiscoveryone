{
 "cells": [
  {
   "cell_type": "code",
   "execution_count": 1,
   "metadata": {},
   "outputs": [],
   "source": [
    "import pandas as pd"
   ]
  },
  {
   "cell_type": "code",
   "execution_count": 2,
   "metadata": {},
   "outputs": [],
   "source": [
    "# importando o arquivo csv e lendo com o PANDAS\n",
    "df = pd.read_csv(\"/Users/rodolforicardo/Downloads/datadiscoveryone/data/raw/olist_order_reviews_dataset.csv\")"
   ]
  },
  {
   "cell_type": "code",
   "execution_count": 3,
   "metadata": {},
   "outputs": [
    {
     "data": {
      "text/html": [
       "<div>\n",
       "<style scoped>\n",
       "    .dataframe tbody tr th:only-of-type {\n",
       "        vertical-align: middle;\n",
       "    }\n",
       "\n",
       "    .dataframe tbody tr th {\n",
       "        vertical-align: top;\n",
       "    }\n",
       "\n",
       "    .dataframe thead th {\n",
       "        text-align: right;\n",
       "    }\n",
       "</style>\n",
       "<table border=\"1\" class=\"dataframe\">\n",
       "  <thead>\n",
       "    <tr style=\"text-align: right;\">\n",
       "      <th></th>\n",
       "      <th>review_id</th>\n",
       "      <th>order_id</th>\n",
       "      <th>review_score</th>\n",
       "      <th>review_comment_title</th>\n",
       "      <th>review_comment_message</th>\n",
       "      <th>review_creation_date</th>\n",
       "      <th>review_answer_timestamp</th>\n",
       "    </tr>\n",
       "  </thead>\n",
       "  <tbody>\n",
       "    <tr>\n",
       "      <th>0</th>\n",
       "      <td>7bc2406110b926393aa56f80a40eba40</td>\n",
       "      <td>73fc7af87114b39712e6da79b0a377eb</td>\n",
       "      <td>4</td>\n",
       "      <td>NaN</td>\n",
       "      <td>NaN</td>\n",
       "      <td>2018-01-18 00:00:00</td>\n",
       "      <td>2018-01-18 21:46:59</td>\n",
       "    </tr>\n",
       "    <tr>\n",
       "      <th>1</th>\n",
       "      <td>80e641a11e56f04c1ad469d5645fdfde</td>\n",
       "      <td>a548910a1c6147796b98fdf73dbeba33</td>\n",
       "      <td>5</td>\n",
       "      <td>NaN</td>\n",
       "      <td>NaN</td>\n",
       "      <td>2018-03-10 00:00:00</td>\n",
       "      <td>2018-03-11 03:05:13</td>\n",
       "    </tr>\n",
       "    <tr>\n",
       "      <th>2</th>\n",
       "      <td>228ce5500dc1d8e020d8d1322874b6f0</td>\n",
       "      <td>f9e4b658b201a9f2ecdecbb34bed034b</td>\n",
       "      <td>5</td>\n",
       "      <td>NaN</td>\n",
       "      <td>NaN</td>\n",
       "      <td>2018-02-17 00:00:00</td>\n",
       "      <td>2018-02-18 14:36:24</td>\n",
       "    </tr>\n",
       "    <tr>\n",
       "      <th>3</th>\n",
       "      <td>e64fb393e7b32834bb789ff8bb30750e</td>\n",
       "      <td>658677c97b385a9be170737859d3511b</td>\n",
       "      <td>5</td>\n",
       "      <td>NaN</td>\n",
       "      <td>Recebi bem antes do prazo estipulado.</td>\n",
       "      <td>2017-04-21 00:00:00</td>\n",
       "      <td>2017-04-21 22:02:06</td>\n",
       "    </tr>\n",
       "    <tr>\n",
       "      <th>4</th>\n",
       "      <td>f7c4243c7fe1938f181bec41a392bdeb</td>\n",
       "      <td>8e6bfb81e283fa7e4f11123a3fb894f1</td>\n",
       "      <td>5</td>\n",
       "      <td>NaN</td>\n",
       "      <td>Parabéns lojas lannister adorei comprar pela I...</td>\n",
       "      <td>2018-03-01 00:00:00</td>\n",
       "      <td>2018-03-02 10:26:53</td>\n",
       "    </tr>\n",
       "  </tbody>\n",
       "</table>\n",
       "</div>"
      ],
      "text/plain": [
       "                          review_id                          order_id  \\\n",
       "0  7bc2406110b926393aa56f80a40eba40  73fc7af87114b39712e6da79b0a377eb   \n",
       "1  80e641a11e56f04c1ad469d5645fdfde  a548910a1c6147796b98fdf73dbeba33   \n",
       "2  228ce5500dc1d8e020d8d1322874b6f0  f9e4b658b201a9f2ecdecbb34bed034b   \n",
       "3  e64fb393e7b32834bb789ff8bb30750e  658677c97b385a9be170737859d3511b   \n",
       "4  f7c4243c7fe1938f181bec41a392bdeb  8e6bfb81e283fa7e4f11123a3fb894f1   \n",
       "\n",
       "   review_score review_comment_title  \\\n",
       "0             4                  NaN   \n",
       "1             5                  NaN   \n",
       "2             5                  NaN   \n",
       "3             5                  NaN   \n",
       "4             5                  NaN   \n",
       "\n",
       "                              review_comment_message review_creation_date  \\\n",
       "0                                                NaN  2018-01-18 00:00:00   \n",
       "1                                                NaN  2018-03-10 00:00:00   \n",
       "2                                                NaN  2018-02-17 00:00:00   \n",
       "3              Recebi bem antes do prazo estipulado.  2017-04-21 00:00:00   \n",
       "4  Parabéns lojas lannister adorei comprar pela I...  2018-03-01 00:00:00   \n",
       "\n",
       "  review_answer_timestamp  \n",
       "0     2018-01-18 21:46:59  \n",
       "1     2018-03-11 03:05:13  \n",
       "2     2018-02-18 14:36:24  \n",
       "3     2017-04-21 22:02:06  \n",
       "4     2018-03-02 10:26:53  "
      ]
     },
     "execution_count": 3,
     "metadata": {},
     "output_type": "execute_result"
    }
   ],
   "source": [
    "df.head()"
   ]
  },
  {
   "cell_type": "code",
   "execution_count": 4,
   "metadata": {},
   "outputs": [],
   "source": [
    "# selecionando as colunas válidas para o projeto\n",
    "selected = df[['review_score', 'review_comment_message']]"
   ]
  },
  {
   "cell_type": "code",
   "execution_count": 5,
   "metadata": {},
   "outputs": [],
   "source": [
    "selected_na = selected.dropna()"
   ]
  },
  {
   "cell_type": "code",
   "execution_count": 6,
   "metadata": {},
   "outputs": [],
   "source": [
    "dataframe = pd.DataFrame(selected_na)"
   ]
  },
  {
   "cell_type": "code",
   "execution_count": 7,
   "metadata": {},
   "outputs": [],
   "source": [
    "# passando as palavras pa minúsculo\n",
    "dataframe['review_comment_message'] = dataframe['review_comment_message'].str.lower()"
   ]
  },
  {
   "cell_type": "code",
   "execution_count": 8,
   "metadata": {},
   "outputs": [
    {
     "data": {
      "text/html": [
       "<div>\n",
       "<style scoped>\n",
       "    .dataframe tbody tr th:only-of-type {\n",
       "        vertical-align: middle;\n",
       "    }\n",
       "\n",
       "    .dataframe tbody tr th {\n",
       "        vertical-align: top;\n",
       "    }\n",
       "\n",
       "    .dataframe thead th {\n",
       "        text-align: right;\n",
       "    }\n",
       "</style>\n",
       "<table border=\"1\" class=\"dataframe\">\n",
       "  <thead>\n",
       "    <tr style=\"text-align: right;\">\n",
       "      <th></th>\n",
       "      <th>review_score</th>\n",
       "      <th>review_comment_message</th>\n",
       "    </tr>\n",
       "  </thead>\n",
       "  <tbody>\n",
       "    <tr>\n",
       "      <th>3</th>\n",
       "      <td>5</td>\n",
       "      <td>recebi bem antes do prazo estipulado.</td>\n",
       "    </tr>\n",
       "    <tr>\n",
       "      <th>4</th>\n",
       "      <td>5</td>\n",
       "      <td>parabéns lojas lannister adorei comprar pela i...</td>\n",
       "    </tr>\n",
       "    <tr>\n",
       "      <th>9</th>\n",
       "      <td>4</td>\n",
       "      <td>aparelho eficiente. no site a marca do aparelh...</td>\n",
       "    </tr>\n",
       "    <tr>\n",
       "      <th>12</th>\n",
       "      <td>4</td>\n",
       "      <td>mas um pouco ,travando...pelo valor ta boa.\\r\\n</td>\n",
       "    </tr>\n",
       "    <tr>\n",
       "      <th>15</th>\n",
       "      <td>5</td>\n",
       "      <td>vendedor confiável, produto ok e entrega antes...</td>\n",
       "    </tr>\n",
       "    <tr>\n",
       "      <th>...</th>\n",
       "      <td>...</td>\n",
       "      <td>...</td>\n",
       "    </tr>\n",
       "    <tr>\n",
       "      <th>99205</th>\n",
       "      <td>4</td>\n",
       "      <td>para este produto recebi de acordo com a compr...</td>\n",
       "    </tr>\n",
       "    <tr>\n",
       "      <th>99208</th>\n",
       "      <td>5</td>\n",
       "      <td>entregou dentro do prazo. o produto chegou em ...</td>\n",
       "    </tr>\n",
       "    <tr>\n",
       "      <th>99215</th>\n",
       "      <td>3</td>\n",
       "      <td>o produto não foi enviado com nf, não existe v...</td>\n",
       "    </tr>\n",
       "    <tr>\n",
       "      <th>99221</th>\n",
       "      <td>5</td>\n",
       "      <td>excelente mochila, entrega super rápida. super...</td>\n",
       "    </tr>\n",
       "    <tr>\n",
       "      <th>99223</th>\n",
       "      <td>1</td>\n",
       "      <td>meu produto chegou e ja tenho que devolver, po...</td>\n",
       "    </tr>\n",
       "  </tbody>\n",
       "</table>\n",
       "<p>40977 rows × 2 columns</p>\n",
       "</div>"
      ],
      "text/plain": [
       "       review_score                             review_comment_message\n",
       "3                 5              recebi bem antes do prazo estipulado.\n",
       "4                 5  parabéns lojas lannister adorei comprar pela i...\n",
       "9                 4  aparelho eficiente. no site a marca do aparelh...\n",
       "12                4    mas um pouco ,travando...pelo valor ta boa.\\r\\n\n",
       "15                5  vendedor confiável, produto ok e entrega antes...\n",
       "...             ...                                                ...\n",
       "99205             4  para este produto recebi de acordo com a compr...\n",
       "99208             5  entregou dentro do prazo. o produto chegou em ...\n",
       "99215             3  o produto não foi enviado com nf, não existe v...\n",
       "99221             5  excelente mochila, entrega super rápida. super...\n",
       "99223             1  meu produto chegou e ja tenho que devolver, po...\n",
       "\n",
       "[40977 rows x 2 columns]"
      ]
     },
     "execution_count": 8,
     "metadata": {},
     "output_type": "execute_result"
    }
   ],
   "source": [
    "dataframe"
   ]
  },
  {
   "cell_type": "code",
   "execution_count": 9,
   "metadata": {},
   "outputs": [],
   "source": [
    "import unidecode\n",
    "import unicodedata"
   ]
  },
  {
   "cell_type": "code",
   "execution_count": 10,
   "metadata": {},
   "outputs": [],
   "source": [
    "# passando a coluna para lista\n",
    "lista = list(dataframe['review_comment_message'])"
   ]
  },
  {
   "cell_type": "code",
   "execution_count": 11,
   "metadata": {},
   "outputs": [],
   "source": [
    "# removendo acentuação com o unicodedata\n",
    "novalista = []\n",
    "for item in lista:\n",
    "    item = unicodedata.normalize(\"NFD\", item)\n",
    "    novalista.append(item.encode(\"ascii\", 'ignore').decode(\"utf-8\"))"
   ]
  },
  {
   "cell_type": "code",
   "execution_count": 12,
   "metadata": {},
   "outputs": [],
   "source": [
    "# removendo os números \n",
    "import re\n",
    "padrao = re.compile(r'\\d+')\n",
    "novalista2 = []\n",
    "for item in novalista:\n",
    "    novalista2.append(padrao.sub('', item))"
   ]
  },
  {
   "cell_type": "code",
   "execution_count": 13,
   "metadata": {},
   "outputs": [],
   "source": [
    "# removendo os caracteres especiais\n",
    "novalista3 = []\n",
    "for item in novalista2:\n",
    "    novalista3.append(re.sub(r'[^a-zA-Z0-9]', ' ', item))"
   ]
  },
  {
   "cell_type": "code",
   "execution_count": 14,
   "metadata": {},
   "outputs": [],
   "source": [
    "# removendo o nome das Casas de Game of Thrones\n",
    "# casas = ['lannister','stark','targaryen','greyjoy','baratheon','martell','tyrell','bolton']\n",
    "    \n",
    "padrao = re.compile(r'lannister|stark|targaryen|greyjoy|baratheon|martell|tyrell|bolton')\n",
    "novalista4 = []\n",
    "for item in novalista3:\n",
    "    novalista4.append(padrao.sub('', item))"
   ]
  },
  {
   "cell_type": "code",
   "execution_count": 17,
   "metadata": {},
   "outputs": [],
   "source": [
    "# importando a biblioteca NLTK para utilizar a lista de stopwords e stemming\n",
    "import nltk\n",
    "#nltk.download('stopwords')\n",
    "from nltk.corpus import stopwords\n",
    "stopwords = nltk.corpus.stopwords.words('portuguese')\n",
    "#nltk.download('rslp')"
   ]
  },
  {
   "cell_type": "code",
   "execution_count": 18,
   "metadata": {},
   "outputs": [],
   "source": [
    "# função para remover as stopwords \n",
    "def removerStopwords (frases):\n",
    "    novalista5 = []\n",
    "    for item in frases:\n",
    "        add = [p for p in item.split() if p not in stopwords]\n",
    "        novalista5.append(add)\n",
    "    return novalista4\n",
    "\n",
    "novalista5 = removerStopwords(novalista4)"
   ]
  },
  {
   "cell_type": "code",
   "execution_count": 19,
   "metadata": {},
   "outputs": [],
   "source": [
    "# removendo stopwords e fazendo o STEMMING (retirada dos sufixos)\n",
    "def aplicaStemmer(texto):\n",
    "    stemmer = nltk.stem.RSLPStemmer()\n",
    "    semsufixo = []\n",
    "    for frases in texto:\n",
    "        comsufixo = [str(stemmer.stem(p)) for p in frases.split() if p not in stopwords]\n",
    "        semsufixo.append(comsufixo)\n",
    "    return semsufixo\n",
    "\n",
    "novalista6 = aplicaStemmer(novalista4)"
   ]
  },
  {
   "cell_type": "code",
   "execution_count": 20,
   "metadata": {},
   "outputs": [],
   "source": [
    "# criando uma lista com as frases completas\n",
    "novalista7 = []\n",
    "for item in novalista6:\n",
    "    item = ' '.join(item)\n",
    "    novalista7.append(item)"
   ]
  },
  {
   "cell_type": "code",
   "execution_count": 21,
   "metadata": {},
   "outputs": [],
   "source": [
    "# criando um dataframe a partir da última lista tratada\n",
    "toDataframe = pd.DataFrame(novalista7)"
   ]
  },
  {
   "cell_type": "code",
   "execution_count": 22,
   "metadata": {},
   "outputs": [],
   "source": [
    "# adicionando uma nova coluna com os dados tratados\n",
    "dataframe['dados tratados'] = toDataframe.values"
   ]
  },
  {
   "cell_type": "code",
   "execution_count": 23,
   "metadata": {},
   "outputs": [
    {
     "data": {
      "text/html": [
       "<div>\n",
       "<style scoped>\n",
       "    .dataframe tbody tr th:only-of-type {\n",
       "        vertical-align: middle;\n",
       "    }\n",
       "\n",
       "    .dataframe tbody tr th {\n",
       "        vertical-align: top;\n",
       "    }\n",
       "\n",
       "    .dataframe thead th {\n",
       "        text-align: right;\n",
       "    }\n",
       "</style>\n",
       "<table border=\"1\" class=\"dataframe\">\n",
       "  <thead>\n",
       "    <tr style=\"text-align: right;\">\n",
       "      <th></th>\n",
       "      <th>review_score</th>\n",
       "      <th>review_comment_message</th>\n",
       "      <th>dados tratados</th>\n",
       "    </tr>\n",
       "  </thead>\n",
       "  <tbody>\n",
       "    <tr>\n",
       "      <th>3</th>\n",
       "      <td>5</td>\n",
       "      <td>recebi bem antes do prazo estipulado.</td>\n",
       "      <td>receb bem ant praz estipul</td>\n",
       "    </tr>\n",
       "    <tr>\n",
       "      <th>4</th>\n",
       "      <td>5</td>\n",
       "      <td>parabéns lojas lannister adorei comprar pela i...</td>\n",
       "      <td>parab loj ador compr internet segur pra parab ...</td>\n",
       "    </tr>\n",
       "    <tr>\n",
       "      <th>9</th>\n",
       "      <td>4</td>\n",
       "      <td>aparelho eficiente. no site a marca do aparelh...</td>\n",
       "      <td>aparelh efici sit marc aparelh impress desinfe...</td>\n",
       "    </tr>\n",
       "    <tr>\n",
       "      <th>12</th>\n",
       "      <td>4</td>\n",
       "      <td>mas um pouco ,travando...pelo valor ta boa.\\r\\n</td>\n",
       "      <td>pouc trav val ta boa</td>\n",
       "    </tr>\n",
       "    <tr>\n",
       "      <th>15</th>\n",
       "      <td>5</td>\n",
       "      <td>vendedor confiável, produto ok e entrega antes...</td>\n",
       "      <td>vend confia produt ok entreg ant praz</td>\n",
       "    </tr>\n",
       "    <tr>\n",
       "      <th>...</th>\n",
       "      <td>...</td>\n",
       "      <td>...</td>\n",
       "      <td>...</td>\n",
       "    </tr>\n",
       "    <tr>\n",
       "      <th>99205</th>\n",
       "      <td>4</td>\n",
       "      <td>para este produto recebi de acordo com a compr...</td>\n",
       "      <td>produt receb acord compr realiz</td>\n",
       "    </tr>\n",
       "    <tr>\n",
       "      <th>99208</th>\n",
       "      <td>5</td>\n",
       "      <td>entregou dentro do prazo. o produto chegou em ...</td>\n",
       "      <td>entreg dentr praz produt cheg condico perfeit ...</td>\n",
       "    </tr>\n",
       "    <tr>\n",
       "      <th>99215</th>\n",
       "      <td>3</td>\n",
       "      <td>o produto não foi enviado com nf, não existe v...</td>\n",
       "      <td>produt nao envi nf nao exist vend nf cert fic ...</td>\n",
       "    </tr>\n",
       "    <tr>\n",
       "      <th>99221</th>\n",
       "      <td>5</td>\n",
       "      <td>excelente mochila, entrega super rápida. super...</td>\n",
       "      <td>excel mochil entreg sup rap sup recom loj</td>\n",
       "    </tr>\n",
       "    <tr>\n",
       "      <th>99223</th>\n",
       "      <td>1</td>\n",
       "      <td>meu produto chegou e ja tenho que devolver, po...</td>\n",
       "      <td>produt cheg ja devolv poi defeit nao segur carg</td>\n",
       "    </tr>\n",
       "  </tbody>\n",
       "</table>\n",
       "<p>40977 rows × 3 columns</p>\n",
       "</div>"
      ],
      "text/plain": [
       "       review_score                             review_comment_message  \\\n",
       "3                 5              recebi bem antes do prazo estipulado.   \n",
       "4                 5  parabéns lojas lannister adorei comprar pela i...   \n",
       "9                 4  aparelho eficiente. no site a marca do aparelh...   \n",
       "12                4    mas um pouco ,travando...pelo valor ta boa.\\r\\n   \n",
       "15                5  vendedor confiável, produto ok e entrega antes...   \n",
       "...             ...                                                ...   \n",
       "99205             4  para este produto recebi de acordo com a compr...   \n",
       "99208             5  entregou dentro do prazo. o produto chegou em ...   \n",
       "99215             3  o produto não foi enviado com nf, não existe v...   \n",
       "99221             5  excelente mochila, entrega super rápida. super...   \n",
       "99223             1  meu produto chegou e ja tenho que devolver, po...   \n",
       "\n",
       "                                          dados tratados  \n",
       "3                             receb bem ant praz estipul  \n",
       "4      parab loj ador compr internet segur pra parab ...  \n",
       "9      aparelh efici sit marc aparelh impress desinfe...  \n",
       "12                                  pouc trav val ta boa  \n",
       "15                 vend confia produt ok entreg ant praz  \n",
       "...                                                  ...  \n",
       "99205                    produt receb acord compr realiz  \n",
       "99208  entreg dentr praz produt cheg condico perfeit ...  \n",
       "99215  produt nao envi nf nao exist vend nf cert fic ...  \n",
       "99221          excel mochil entreg sup rap sup recom loj  \n",
       "99223    produt cheg ja devolv poi defeit nao segur carg  \n",
       "\n",
       "[40977 rows x 3 columns]"
      ]
     },
     "execution_count": 23,
     "metadata": {},
     "output_type": "execute_result"
    }
   ],
   "source": [
    "dataframe"
   ]
  },
  {
   "cell_type": "code",
   "execution_count": 24,
   "metadata": {},
   "outputs": [],
   "source": [
    "# removendo as linhas com score 3\n",
    "dataframe = dataframe[dataframe['review_score'] != 3]"
   ]
  },
  {
   "cell_type": "code",
   "execution_count": 25,
   "metadata": {},
   "outputs": [
    {
     "data": {
      "text/html": [
       "<div>\n",
       "<style scoped>\n",
       "    .dataframe tbody tr th:only-of-type {\n",
       "        vertical-align: middle;\n",
       "    }\n",
       "\n",
       "    .dataframe tbody tr th {\n",
       "        vertical-align: top;\n",
       "    }\n",
       "\n",
       "    .dataframe thead th {\n",
       "        text-align: right;\n",
       "    }\n",
       "</style>\n",
       "<table border=\"1\" class=\"dataframe\">\n",
       "  <thead>\n",
       "    <tr style=\"text-align: right;\">\n",
       "      <th></th>\n",
       "      <th>review_score</th>\n",
       "      <th>review_comment_message</th>\n",
       "      <th>dados tratados</th>\n",
       "    </tr>\n",
       "  </thead>\n",
       "  <tbody>\n",
       "    <tr>\n",
       "      <th>3</th>\n",
       "      <td>5</td>\n",
       "      <td>recebi bem antes do prazo estipulado.</td>\n",
       "      <td>receb bem ant praz estipul</td>\n",
       "    </tr>\n",
       "    <tr>\n",
       "      <th>4</th>\n",
       "      <td>5</td>\n",
       "      <td>parabéns lojas lannister adorei comprar pela i...</td>\n",
       "      <td>parab loj ador compr internet segur pra parab ...</td>\n",
       "    </tr>\n",
       "    <tr>\n",
       "      <th>9</th>\n",
       "      <td>4</td>\n",
       "      <td>aparelho eficiente. no site a marca do aparelh...</td>\n",
       "      <td>aparelh efici sit marc aparelh impress desinfe...</td>\n",
       "    </tr>\n",
       "    <tr>\n",
       "      <th>12</th>\n",
       "      <td>4</td>\n",
       "      <td>mas um pouco ,travando...pelo valor ta boa.\\r\\n</td>\n",
       "      <td>pouc trav val ta boa</td>\n",
       "    </tr>\n",
       "    <tr>\n",
       "      <th>15</th>\n",
       "      <td>5</td>\n",
       "      <td>vendedor confiável, produto ok e entrega antes...</td>\n",
       "      <td>vend confia produt ok entreg ant praz</td>\n",
       "    </tr>\n",
       "    <tr>\n",
       "      <th>...</th>\n",
       "      <td>...</td>\n",
       "      <td>...</td>\n",
       "      <td>...</td>\n",
       "    </tr>\n",
       "    <tr>\n",
       "      <th>99203</th>\n",
       "      <td>2</td>\n",
       "      <td>tive um problema na entrega em que o correio c...</td>\n",
       "      <td>problem entreg correi coloc sit entreg dia nao...</td>\n",
       "    </tr>\n",
       "    <tr>\n",
       "      <th>99205</th>\n",
       "      <td>4</td>\n",
       "      <td>para este produto recebi de acordo com a compr...</td>\n",
       "      <td>produt receb acord compr realiz</td>\n",
       "    </tr>\n",
       "    <tr>\n",
       "      <th>99208</th>\n",
       "      <td>5</td>\n",
       "      <td>entregou dentro do prazo. o produto chegou em ...</td>\n",
       "      <td>entreg dentr praz produt cheg condico perfeit ...</td>\n",
       "    </tr>\n",
       "    <tr>\n",
       "      <th>99221</th>\n",
       "      <td>5</td>\n",
       "      <td>excelente mochila, entrega super rápida. super...</td>\n",
       "      <td>excel mochil entreg sup rap sup recom loj</td>\n",
       "    </tr>\n",
       "    <tr>\n",
       "      <th>99223</th>\n",
       "      <td>1</td>\n",
       "      <td>meu produto chegou e ja tenho que devolver, po...</td>\n",
       "      <td>produt cheg ja devolv poi defeit nao segur carg</td>\n",
       "    </tr>\n",
       "  </tbody>\n",
       "</table>\n",
       "<p>37420 rows × 3 columns</p>\n",
       "</div>"
      ],
      "text/plain": [
       "       review_score                             review_comment_message  \\\n",
       "3                 5              recebi bem antes do prazo estipulado.   \n",
       "4                 5  parabéns lojas lannister adorei comprar pela i...   \n",
       "9                 4  aparelho eficiente. no site a marca do aparelh...   \n",
       "12                4    mas um pouco ,travando...pelo valor ta boa.\\r\\n   \n",
       "15                5  vendedor confiável, produto ok e entrega antes...   \n",
       "...             ...                                                ...   \n",
       "99203             2  tive um problema na entrega em que o correio c...   \n",
       "99205             4  para este produto recebi de acordo com a compr...   \n",
       "99208             5  entregou dentro do prazo. o produto chegou em ...   \n",
       "99221             5  excelente mochila, entrega super rápida. super...   \n",
       "99223             1  meu produto chegou e ja tenho que devolver, po...   \n",
       "\n",
       "                                          dados tratados  \n",
       "3                             receb bem ant praz estipul  \n",
       "4      parab loj ador compr internet segur pra parab ...  \n",
       "9      aparelh efici sit marc aparelh impress desinfe...  \n",
       "12                                  pouc trav val ta boa  \n",
       "15                 vend confia produt ok entreg ant praz  \n",
       "...                                                  ...  \n",
       "99203  problem entreg correi coloc sit entreg dia nao...  \n",
       "99205                    produt receb acord compr realiz  \n",
       "99208  entreg dentr praz produt cheg condico perfeit ...  \n",
       "99221          excel mochil entreg sup rap sup recom loj  \n",
       "99223    produt cheg ja devolv poi defeit nao segur carg  \n",
       "\n",
       "[37420 rows x 3 columns]"
      ]
     },
     "execution_count": 25,
     "metadata": {},
     "output_type": "execute_result"
    }
   ],
   "source": [
    "dataframe"
   ]
  },
  {
   "cell_type": "code",
   "execution_count": 26,
   "metadata": {},
   "outputs": [
    {
     "data": {
      "application/vnd.jupyter.widget-view+json": {
       "model_id": "6e180940f2994b379d4d80b4c3245949",
       "version_major": 2,
       "version_minor": 0
      },
      "text/plain": [
       "  0%|          | 0/37420 [00:00<?, ?it/s]"
      ]
     },
     "metadata": {},
     "output_type": "display_data"
    }
   ],
   "source": [
    "import string\n",
    "from tqdm.auto import tqdm\n",
    "cont = 0\n",
    "x_data = []\n",
    "y_data = []\n",
    "for star,review,target in tqdm((dataframe).values):\n",
    "    x_data.append(review)\n",
    "    y_data.append(target)\n",
    "    cont += 1"
   ]
  },
  {
   "cell_type": "markdown",
   "metadata": {},
   "source": [
    "Bag of Words"
   ]
  },
  {
   "cell_type": "code",
   "execution_count": 30,
   "metadata": {},
   "outputs": [],
   "source": [
    "from sklearn.feature_extraction.text import CountVectorizer"
   ]
  },
  {
   "cell_type": "code",
   "execution_count": 31,
   "metadata": {},
   "outputs": [
    {
     "name": "stderr",
     "output_type": "stream",
     "text": [
      "/Users/rodolforicardo/.local/lib/python3.8/site-packages/sklearn/utils/deprecation.py:87: FutureWarning: Function get_feature_names is deprecated; get_feature_names is deprecated in 1.0 and will be removed in 1.2. Please use get_feature_names_out instead.\n",
      "  warnings.warn(msg, category=FutureWarning)\n"
     ]
    },
    {
     "data": {
      "text/plain": [
       "array([[0, 0, 0, ..., 0, 0, 0],\n",
       "       [0, 0, 0, ..., 0, 0, 0],\n",
       "       [0, 0, 0, ..., 0, 0, 0],\n",
       "       ...,\n",
       "       [0, 0, 0, ..., 0, 0, 0],\n",
       "       [0, 0, 0, ..., 0, 0, 0],\n",
       "       [0, 0, 0, ..., 0, 0, 0]])"
      ]
     },
     "execution_count": 31,
     "metadata": {},
     "output_type": "execute_result"
    }
   ],
   "source": [
    "vectorizer = CountVectorizer()\n",
    "X = vectorizer.fit_transform(x_data)\n",
    "(vectorizer.get_feature_names())\n",
    "X.toarray()#[0]"
   ]
  },
  {
   "cell_type": "code",
   "execution_count": null,
   "metadata": {},
   "outputs": [],
   "source": [
    "from sklearn.datasets import load_iris\n",
    "from sklearn.model_selection import train_test_split\n",
    "from sklearn.naive_bayes import GaussianNB\n",
    "X_train, X_test, y_train, y_test = train_test_split(X.toarray(), y_data, test_size=0.7, random_state=0)\n",
    "gnb = GaussianNB()\n",
    "y_pred = gnb.fit(X_train, y_train).predict(X_test)\n",
    "print(\"Number of mislabeled points out of a total %d points : %d\"\n",
    "       % (X_test.shape[0], (y_test != y_pred).sum()))"
   ]
  },
  {
   "cell_type": "code",
   "execution_count": null,
   "metadata": {},
   "outputs": [],
   "source": [
    "from sklearn.metrics import accuracy_score\n",
    "accuracy_score(y_test, y_pred)"
   ]
  },
  {
   "cell_type": "code",
   "execution_count": null,
   "metadata": {},
   "outputs": [],
   "source": [
    "list(y_pred).count(1),len(y_pred),list(y_test).count(1),len(y_test)#.count(1)"
   ]
  },
  {
   "cell_type": "code",
   "execution_count": null,
   "metadata": {},
   "outputs": [],
   "source": [
    "gnb.predict([X.toarray()[1]]),y_pred[1]"
   ]
  },
  {
   "cell_type": "code",
   "execution_count": null,
   "metadata": {},
   "outputs": [],
   "source": [
    "from sklearn.metrics import confusion_matrix\n",
    "import matplotlib.pyplot as plt\n",
    "from sklearn.metrics import ConfusionMatrixDisplay\n",
    "from sklearn.metrics import plot_confusion_matrix"
   ]
  },
  {
   "cell_type": "code",
   "execution_count": null,
   "metadata": {},
   "outputs": [],
   "source": [
    "confusion = confusion_matrix(y_test, y_pred)\n",
    "print(confusion)"
   ]
  },
  {
   "cell_type": "code",
   "execution_count": null,
   "metadata": {},
   "outputs": [],
   "source": [
    "plot_confusion_matrix(gnb,X_test,y_test)"
   ]
  }
 ],
 "metadata": {
  "kernelspec": {
   "display_name": "Python 3 (ipykernel)",
   "language": "python",
   "name": "python3"
  },
  "language_info": {
   "codemirror_mode": {
    "name": "ipython",
    "version": 3
   },
   "file_extension": ".py",
   "mimetype": "text/x-python",
   "name": "python",
   "nbconvert_exporter": "python",
   "pygments_lexer": "ipython3",
   "version": "3.8.12"
  }
 },
 "nbformat": 4,
 "nbformat_minor": 4
}
