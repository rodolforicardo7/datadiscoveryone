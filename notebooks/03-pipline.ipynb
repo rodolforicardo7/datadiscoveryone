{
 "cells": [
  {
   "cell_type": "code",
   "execution_count": 80,
   "id": "3f1d611c",
   "metadata": {},
   "outputs": [],
   "source": [
    "import warnings\n",
    "import re\n",
    "import pickle\n",
    "\n",
    "import nltk\n",
    "import pandas as pd\n",
    "import numpy as np\n",
    "from nltk.corpus import stopwords\n",
    "from sklearn.feature_extraction.text import TfidfVectorizer\n",
    "from nltk.corpus import stopwords\n",
    "from nltk.stem.porter import PorterStemmer\n",
    "from sklearn.model_selection import train_test_split\n",
    "from sklearn.pipeline import Pipeline\n",
    "from sklearn.neural_network import MLPClassifier\n",
    "from sklearn.naive_bayes import MultinomialNB\n",
    "from sklearn.linear_model import LogisticRegression\n",
    "from sklearn.svm import SVC\n",
    "from sklearn.tree import DecisionTreeClassifier\n",
    "from sklearn.model_selection import cross_val_score\n",
    "from sklearn.naive_bayes import GaussianNB\n",
    "from nltk.stem.snowball import PortugueseStemmer"
   ]
  },
  {
   "cell_type": "code",
   "execution_count": null,
   "id": "fb80f6f6",
   "metadata": {},
   "outputs": [],
   "source": []
  },
  {
   "cell_type": "code",
   "execution_count": 20,
   "id": "775d6a8e",
   "metadata": {},
   "outputs": [],
   "source": [
    "# importando o arquivo csv e lendo com o PANDAS\n",
    "df_path   = \"../data/raw/olist_order_reviews_dataset.csv\"\n",
    "used_cols = ['review_score', 'review_comment_message']\n"
   ]
  },
  {
   "cell_type": "code",
   "execution_count": 33,
   "id": "b0101c17",
   "metadata": {},
   "outputs": [],
   "source": [
    "df = (\n",
    "    pd\n",
    "    .read_csv(df_path,usecols = used_cols)\n",
    "    .dropna()# Remoção de linhas sem informação\n",
    "    .reset_index()#\n",
    "    .drop(columns=['index'], axis=1)\n",
    "    .query('review_score != 3')\n",
    ")\n",
    "\n",
    "df['review_score'] = df['review_score'].apply(lambda x: 0 if x <3 else 1)"
   ]
  },
  {
   "cell_type": "code",
   "execution_count": 43,
   "id": "da7562e1",
   "metadata": {},
   "outputs": [
    {
     "data": {
      "text/plain": [
       "1    26530\n",
       "0    10890\n",
       "Name: review_score, dtype: int64"
      ]
     },
     "execution_count": 43,
     "metadata": {},
     "output_type": "execute_result"
    }
   ],
   "source": [
    "df['review_score'].value_counts()"
   ]
  },
  {
   "cell_type": "code",
   "execution_count": 44,
   "id": "d5f4d355",
   "metadata": {},
   "outputs": [],
   "source": [
    "stemmer   = PortugueseStemmer()\n",
    "stop_words = stopwords.words('portuguese')"
   ]
  },
  {
   "cell_type": "code",
   "execution_count": 71,
   "id": "a9002680",
   "metadata": {},
   "outputs": [],
   "source": [
    "analyzer = TfidfVectorizer().build_analyzer()\n",
    "\n",
    "def stemmed_words(doc):\n",
    "    return (stemmer.stem(w) for w in analyzer(doc))\n",
    "\n",
    "stem_vectorizer = TfidfVectorizer(analyzer=stemmed_words,stop_words=stop_words,max_features=3700)"
   ]
  },
  {
   "cell_type": "code",
   "execution_count": 82,
   "id": "1b243e07",
   "metadata": {},
   "outputs": [],
   "source": [
    "models = {\n",
    "    'lr'   : LogisticRegression(max_iter=1000),\n",
    "    'dtree': DecisionTreeClassifier(max_depth=100),\n",
    "    'svc'  : SVC(max_iter=1001),\n",
    "    'gnb'  : GaussianNB()\n",
    "}"
   ]
  },
  {
   "cell_type": "code",
   "execution_count": 72,
   "id": "e0aa0a15",
   "metadata": {},
   "outputs": [],
   "source": [
    "transformer = Pipeline(\n",
    "    steps= [\n",
    "        ('stemmer_tfidf', stem_vectorizer)\n",
    "    ]\n",
    ")"
   ]
  },
  {
   "cell_type": "code",
   "execution_count": 47,
   "id": "92dc1727",
   "metadata": {},
   "outputs": [],
   "source": [
    "clf = LogisticRegression()\n",
    "model =  Pipeline(steps=[('preprocessor',transformer), ('clf',clf)])"
   ]
  },
  {
   "cell_type": "code",
   "execution_count": 59,
   "id": "b7b3ef8a",
   "metadata": {},
   "outputs": [],
   "source": [
    "X = df['review_comment_message'].to_list()\n",
    "y = df[['review_score']].values[:,0]#.to_list()"
   ]
  },
  {
   "cell_type": "code",
   "execution_count": 83,
   "id": "fb73ab2c",
   "metadata": {},
   "outputs": [
    {
     "data": {
      "text/plain": [
       "{'lr': None, 'dtree': None, 'svc': None, 'gnb': None}"
      ]
     },
     "execution_count": 83,
     "metadata": {},
     "output_type": "execute_result"
    }
   ],
   "source": [
    "{model_name:None for model_name in models}"
   ]
  },
  {
   "cell_type": "code",
   "execution_count": 84,
   "id": "bf5f02b6",
   "metadata": {},
   "outputs": [
    {
     "name": "stderr",
     "output_type": "stream",
     "text": [
      "C:\\Users\\Trisna\\anaconda3\\lib\\site-packages\\sklearn\\svm\\_base.py:255: ConvergenceWarning: Solver terminated early (max_iter=1001).  Consider pre-processing your data with StandardScaler or MinMaxScaler.\n",
      "  warnings.warn('Solver terminated early (max_iter=%i).'\n",
      "C:\\Users\\Trisna\\anaconda3\\lib\\site-packages\\sklearn\\svm\\_base.py:255: ConvergenceWarning: Solver terminated early (max_iter=1001).  Consider pre-processing your data with StandardScaler or MinMaxScaler.\n",
      "  warnings.warn('Solver terminated early (max_iter=%i).'\n",
      "C:\\Users\\Trisna\\anaconda3\\lib\\site-packages\\sklearn\\svm\\_base.py:255: ConvergenceWarning: Solver terminated early (max_iter=1001).  Consider pre-processing your data with StandardScaler or MinMaxScaler.\n",
      "  warnings.warn('Solver terminated early (max_iter=%i).'\n",
      "C:\\Users\\Trisna\\anaconda3\\lib\\site-packages\\sklearn\\svm\\_base.py:255: ConvergenceWarning: Solver terminated early (max_iter=1001).  Consider pre-processing your data with StandardScaler or MinMaxScaler.\n",
      "  warnings.warn('Solver terminated early (max_iter=%i).'\n",
      "C:\\Users\\Trisna\\anaconda3\\lib\\site-packages\\sklearn\\svm\\_base.py:255: ConvergenceWarning: Solver terminated early (max_iter=1001).  Consider pre-processing your data with StandardScaler or MinMaxScaler.\n",
      "  warnings.warn('Solver terminated early (max_iter=%i).'\n",
      "C:\\Users\\Trisna\\anaconda3\\lib\\site-packages\\sklearn\\svm\\_base.py:255: ConvergenceWarning: Solver terminated early (max_iter=1001).  Consider pre-processing your data with StandardScaler or MinMaxScaler.\n",
      "  warnings.warn('Solver terminated early (max_iter=%i).'\n",
      "C:\\Users\\Trisna\\anaconda3\\lib\\site-packages\\sklearn\\svm\\_base.py:255: ConvergenceWarning: Solver terminated early (max_iter=1001).  Consider pre-processing your data with StandardScaler or MinMaxScaler.\n",
      "  warnings.warn('Solver terminated early (max_iter=%i).'\n",
      "C:\\Users\\Trisna\\anaconda3\\lib\\site-packages\\sklearn\\svm\\_base.py:255: ConvergenceWarning: Solver terminated early (max_iter=1001).  Consider pre-processing your data with StandardScaler or MinMaxScaler.\n",
      "  warnings.warn('Solver terminated early (max_iter=%i).'\n",
      "C:\\Users\\Trisna\\anaconda3\\lib\\site-packages\\sklearn\\svm\\_base.py:255: ConvergenceWarning: Solver terminated early (max_iter=1001).  Consider pre-processing your data with StandardScaler or MinMaxScaler.\n",
      "  warnings.warn('Solver terminated early (max_iter=%i).'\n",
      "C:\\Users\\Trisna\\anaconda3\\lib\\site-packages\\sklearn\\svm\\_base.py:255: ConvergenceWarning: Solver terminated early (max_iter=1001).  Consider pre-processing your data with StandardScaler or MinMaxScaler.\n",
      "  warnings.warn('Solver terminated early (max_iter=%i).'\n",
      "C:\\Users\\Trisna\\anaconda3\\lib\\site-packages\\sklearn\\model_selection\\_validation.py:610: FitFailedWarning: Estimator fit failed. The score on this train-test partition for these parameters will be set to nan. Details: \n",
      "Traceback (most recent call last):\n",
      "  File \"C:\\Users\\Trisna\\anaconda3\\lib\\site-packages\\sklearn\\model_selection\\_validation.py\", line 593, in _fit_and_score\n",
      "    estimator.fit(X_train, y_train, **fit_params)\n",
      "  File \"C:\\Users\\Trisna\\anaconda3\\lib\\site-packages\\sklearn\\pipeline.py\", line 346, in fit\n",
      "    self._final_estimator.fit(Xt, y, **fit_params_last_step)\n",
      "  File \"C:\\Users\\Trisna\\anaconda3\\lib\\site-packages\\sklearn\\naive_bayes.py\", line 207, in fit\n",
      "    X, y = self._validate_data(X, y)\n",
      "  File \"C:\\Users\\Trisna\\anaconda3\\lib\\site-packages\\sklearn\\base.py\", line 433, in _validate_data\n",
      "    X, y = check_X_y(X, y, **check_params)\n",
      "  File \"C:\\Users\\Trisna\\anaconda3\\lib\\site-packages\\sklearn\\utils\\validation.py\", line 63, in inner_f\n",
      "    return f(*args, **kwargs)\n",
      "  File \"C:\\Users\\Trisna\\anaconda3\\lib\\site-packages\\sklearn\\utils\\validation.py\", line 814, in check_X_y\n",
      "    X = check_array(X, accept_sparse=accept_sparse,\n",
      "  File \"C:\\Users\\Trisna\\anaconda3\\lib\\site-packages\\sklearn\\utils\\validation.py\", line 63, in inner_f\n",
      "    return f(*args, **kwargs)\n",
      "  File \"C:\\Users\\Trisna\\anaconda3\\lib\\site-packages\\sklearn\\utils\\validation.py\", line 593, in check_array\n",
      "    array = _ensure_sparse_format(array, accept_sparse=accept_sparse,\n",
      "  File \"C:\\Users\\Trisna\\anaconda3\\lib\\site-packages\\sklearn\\utils\\validation.py\", line 360, in _ensure_sparse_format\n",
      "    raise TypeError('A sparse matrix was passed, but dense '\n",
      "TypeError: A sparse matrix was passed, but dense data is required. Use X.toarray() to convert to a dense numpy array.\n",
      "\n",
      "  warnings.warn(\"Estimator fit failed. The score on this train-test\"\n",
      "C:\\Users\\Trisna\\anaconda3\\lib\\site-packages\\sklearn\\model_selection\\_validation.py:610: FitFailedWarning: Estimator fit failed. The score on this train-test partition for these parameters will be set to nan. Details: \n",
      "Traceback (most recent call last):\n",
      "  File \"C:\\Users\\Trisna\\anaconda3\\lib\\site-packages\\sklearn\\model_selection\\_validation.py\", line 593, in _fit_and_score\n",
      "    estimator.fit(X_train, y_train, **fit_params)\n",
      "  File \"C:\\Users\\Trisna\\anaconda3\\lib\\site-packages\\sklearn\\pipeline.py\", line 346, in fit\n",
      "    self._final_estimator.fit(Xt, y, **fit_params_last_step)\n",
      "  File \"C:\\Users\\Trisna\\anaconda3\\lib\\site-packages\\sklearn\\naive_bayes.py\", line 207, in fit\n",
      "    X, y = self._validate_data(X, y)\n",
      "  File \"C:\\Users\\Trisna\\anaconda3\\lib\\site-packages\\sklearn\\base.py\", line 433, in _validate_data\n",
      "    X, y = check_X_y(X, y, **check_params)\n",
      "  File \"C:\\Users\\Trisna\\anaconda3\\lib\\site-packages\\sklearn\\utils\\validation.py\", line 63, in inner_f\n",
      "    return f(*args, **kwargs)\n",
      "  File \"C:\\Users\\Trisna\\anaconda3\\lib\\site-packages\\sklearn\\utils\\validation.py\", line 814, in check_X_y\n",
      "    X = check_array(X, accept_sparse=accept_sparse,\n",
      "  File \"C:\\Users\\Trisna\\anaconda3\\lib\\site-packages\\sklearn\\utils\\validation.py\", line 63, in inner_f\n",
      "    return f(*args, **kwargs)\n",
      "  File \"C:\\Users\\Trisna\\anaconda3\\lib\\site-packages\\sklearn\\utils\\validation.py\", line 593, in check_array\n",
      "    array = _ensure_sparse_format(array, accept_sparse=accept_sparse,\n",
      "  File \"C:\\Users\\Trisna\\anaconda3\\lib\\site-packages\\sklearn\\utils\\validation.py\", line 360, in _ensure_sparse_format\n",
      "    raise TypeError('A sparse matrix was passed, but dense '\n",
      "TypeError: A sparse matrix was passed, but dense data is required. Use X.toarray() to convert to a dense numpy array.\n",
      "\n",
      "  warnings.warn(\"Estimator fit failed. The score on this train-test\"\n",
      "C:\\Users\\Trisna\\anaconda3\\lib\\site-packages\\sklearn\\model_selection\\_validation.py:610: FitFailedWarning: Estimator fit failed. The score on this train-test partition for these parameters will be set to nan. Details: \n",
      "Traceback (most recent call last):\n",
      "  File \"C:\\Users\\Trisna\\anaconda3\\lib\\site-packages\\sklearn\\model_selection\\_validation.py\", line 593, in _fit_and_score\n",
      "    estimator.fit(X_train, y_train, **fit_params)\n",
      "  File \"C:\\Users\\Trisna\\anaconda3\\lib\\site-packages\\sklearn\\pipeline.py\", line 346, in fit\n",
      "    self._final_estimator.fit(Xt, y, **fit_params_last_step)\n",
      "  File \"C:\\Users\\Trisna\\anaconda3\\lib\\site-packages\\sklearn\\naive_bayes.py\", line 207, in fit\n",
      "    X, y = self._validate_data(X, y)\n",
      "  File \"C:\\Users\\Trisna\\anaconda3\\lib\\site-packages\\sklearn\\base.py\", line 433, in _validate_data\n",
      "    X, y = check_X_y(X, y, **check_params)\n",
      "  File \"C:\\Users\\Trisna\\anaconda3\\lib\\site-packages\\sklearn\\utils\\validation.py\", line 63, in inner_f\n",
      "    return f(*args, **kwargs)\n",
      "  File \"C:\\Users\\Trisna\\anaconda3\\lib\\site-packages\\sklearn\\utils\\validation.py\", line 814, in check_X_y\n",
      "    X = check_array(X, accept_sparse=accept_sparse,\n",
      "  File \"C:\\Users\\Trisna\\anaconda3\\lib\\site-packages\\sklearn\\utils\\validation.py\", line 63, in inner_f\n",
      "    return f(*args, **kwargs)\n",
      "  File \"C:\\Users\\Trisna\\anaconda3\\lib\\site-packages\\sklearn\\utils\\validation.py\", line 593, in check_array\n",
      "    array = _ensure_sparse_format(array, accept_sparse=accept_sparse,\n",
      "  File \"C:\\Users\\Trisna\\anaconda3\\lib\\site-packages\\sklearn\\utils\\validation.py\", line 360, in _ensure_sparse_format\n",
      "    raise TypeError('A sparse matrix was passed, but dense '\n",
      "TypeError: A sparse matrix was passed, but dense data is required. Use X.toarray() to convert to a dense numpy array.\n",
      "\n",
      "  warnings.warn(\"Estimator fit failed. The score on this train-test\"\n",
      "C:\\Users\\Trisna\\anaconda3\\lib\\site-packages\\sklearn\\model_selection\\_validation.py:610: FitFailedWarning: Estimator fit failed. The score on this train-test partition for these parameters will be set to nan. Details: \n",
      "Traceback (most recent call last):\n",
      "  File \"C:\\Users\\Trisna\\anaconda3\\lib\\site-packages\\sklearn\\model_selection\\_validation.py\", line 593, in _fit_and_score\n",
      "    estimator.fit(X_train, y_train, **fit_params)\n",
      "  File \"C:\\Users\\Trisna\\anaconda3\\lib\\site-packages\\sklearn\\pipeline.py\", line 346, in fit\n",
      "    self._final_estimator.fit(Xt, y, **fit_params_last_step)\n",
      "  File \"C:\\Users\\Trisna\\anaconda3\\lib\\site-packages\\sklearn\\naive_bayes.py\", line 207, in fit\n",
      "    X, y = self._validate_data(X, y)\n",
      "  File \"C:\\Users\\Trisna\\anaconda3\\lib\\site-packages\\sklearn\\base.py\", line 433, in _validate_data\n",
      "    X, y = check_X_y(X, y, **check_params)\n",
      "  File \"C:\\Users\\Trisna\\anaconda3\\lib\\site-packages\\sklearn\\utils\\validation.py\", line 63, in inner_f\n",
      "    return f(*args, **kwargs)\n",
      "  File \"C:\\Users\\Trisna\\anaconda3\\lib\\site-packages\\sklearn\\utils\\validation.py\", line 814, in check_X_y\n",
      "    X = check_array(X, accept_sparse=accept_sparse,\n",
      "  File \"C:\\Users\\Trisna\\anaconda3\\lib\\site-packages\\sklearn\\utils\\validation.py\", line 63, in inner_f\n",
      "    return f(*args, **kwargs)\n",
      "  File \"C:\\Users\\Trisna\\anaconda3\\lib\\site-packages\\sklearn\\utils\\validation.py\", line 593, in check_array\n",
      "    array = _ensure_sparse_format(array, accept_sparse=accept_sparse,\n",
      "  File \"C:\\Users\\Trisna\\anaconda3\\lib\\site-packages\\sklearn\\utils\\validation.py\", line 360, in _ensure_sparse_format\n",
      "    raise TypeError('A sparse matrix was passed, but dense '\n",
      "TypeError: A sparse matrix was passed, but dense data is required. Use X.toarray() to convert to a dense numpy array.\n",
      "\n",
      "  warnings.warn(\"Estimator fit failed. The score on this train-test\"\n"
     ]
    },
    {
     "name": "stderr",
     "output_type": "stream",
     "text": [
      "C:\\Users\\Trisna\\anaconda3\\lib\\site-packages\\sklearn\\model_selection\\_validation.py:610: FitFailedWarning: Estimator fit failed. The score on this train-test partition for these parameters will be set to nan. Details: \n",
      "Traceback (most recent call last):\n",
      "  File \"C:\\Users\\Trisna\\anaconda3\\lib\\site-packages\\sklearn\\model_selection\\_validation.py\", line 593, in _fit_and_score\n",
      "    estimator.fit(X_train, y_train, **fit_params)\n",
      "  File \"C:\\Users\\Trisna\\anaconda3\\lib\\site-packages\\sklearn\\pipeline.py\", line 346, in fit\n",
      "    self._final_estimator.fit(Xt, y, **fit_params_last_step)\n",
      "  File \"C:\\Users\\Trisna\\anaconda3\\lib\\site-packages\\sklearn\\naive_bayes.py\", line 207, in fit\n",
      "    X, y = self._validate_data(X, y)\n",
      "  File \"C:\\Users\\Trisna\\anaconda3\\lib\\site-packages\\sklearn\\base.py\", line 433, in _validate_data\n",
      "    X, y = check_X_y(X, y, **check_params)\n",
      "  File \"C:\\Users\\Trisna\\anaconda3\\lib\\site-packages\\sklearn\\utils\\validation.py\", line 63, in inner_f\n",
      "    return f(*args, **kwargs)\n",
      "  File \"C:\\Users\\Trisna\\anaconda3\\lib\\site-packages\\sklearn\\utils\\validation.py\", line 814, in check_X_y\n",
      "    X = check_array(X, accept_sparse=accept_sparse,\n",
      "  File \"C:\\Users\\Trisna\\anaconda3\\lib\\site-packages\\sklearn\\utils\\validation.py\", line 63, in inner_f\n",
      "    return f(*args, **kwargs)\n",
      "  File \"C:\\Users\\Trisna\\anaconda3\\lib\\site-packages\\sklearn\\utils\\validation.py\", line 593, in check_array\n",
      "    array = _ensure_sparse_format(array, accept_sparse=accept_sparse,\n",
      "  File \"C:\\Users\\Trisna\\anaconda3\\lib\\site-packages\\sklearn\\utils\\validation.py\", line 360, in _ensure_sparse_format\n",
      "    raise TypeError('A sparse matrix was passed, but dense '\n",
      "TypeError: A sparse matrix was passed, but dense data is required. Use X.toarray() to convert to a dense numpy array.\n",
      "\n",
      "  warnings.warn(\"Estimator fit failed. The score on this train-test\"\n",
      "C:\\Users\\Trisna\\anaconda3\\lib\\site-packages\\sklearn\\model_selection\\_validation.py:610: FitFailedWarning: Estimator fit failed. The score on this train-test partition for these parameters will be set to nan. Details: \n",
      "Traceback (most recent call last):\n",
      "  File \"C:\\Users\\Trisna\\anaconda3\\lib\\site-packages\\sklearn\\model_selection\\_validation.py\", line 593, in _fit_and_score\n",
      "    estimator.fit(X_train, y_train, **fit_params)\n",
      "  File \"C:\\Users\\Trisna\\anaconda3\\lib\\site-packages\\sklearn\\pipeline.py\", line 346, in fit\n",
      "    self._final_estimator.fit(Xt, y, **fit_params_last_step)\n",
      "  File \"C:\\Users\\Trisna\\anaconda3\\lib\\site-packages\\sklearn\\naive_bayes.py\", line 207, in fit\n",
      "    X, y = self._validate_data(X, y)\n",
      "  File \"C:\\Users\\Trisna\\anaconda3\\lib\\site-packages\\sklearn\\base.py\", line 433, in _validate_data\n",
      "    X, y = check_X_y(X, y, **check_params)\n",
      "  File \"C:\\Users\\Trisna\\anaconda3\\lib\\site-packages\\sklearn\\utils\\validation.py\", line 63, in inner_f\n",
      "    return f(*args, **kwargs)\n",
      "  File \"C:\\Users\\Trisna\\anaconda3\\lib\\site-packages\\sklearn\\utils\\validation.py\", line 814, in check_X_y\n",
      "    X = check_array(X, accept_sparse=accept_sparse,\n",
      "  File \"C:\\Users\\Trisna\\anaconda3\\lib\\site-packages\\sklearn\\utils\\validation.py\", line 63, in inner_f\n",
      "    return f(*args, **kwargs)\n",
      "  File \"C:\\Users\\Trisna\\anaconda3\\lib\\site-packages\\sklearn\\utils\\validation.py\", line 593, in check_array\n",
      "    array = _ensure_sparse_format(array, accept_sparse=accept_sparse,\n",
      "  File \"C:\\Users\\Trisna\\anaconda3\\lib\\site-packages\\sklearn\\utils\\validation.py\", line 360, in _ensure_sparse_format\n",
      "    raise TypeError('A sparse matrix was passed, but dense '\n",
      "TypeError: A sparse matrix was passed, but dense data is required. Use X.toarray() to convert to a dense numpy array.\n",
      "\n",
      "  warnings.warn(\"Estimator fit failed. The score on this train-test\"\n",
      "C:\\Users\\Trisna\\anaconda3\\lib\\site-packages\\sklearn\\model_selection\\_validation.py:610: FitFailedWarning: Estimator fit failed. The score on this train-test partition for these parameters will be set to nan. Details: \n",
      "Traceback (most recent call last):\n",
      "  File \"C:\\Users\\Trisna\\anaconda3\\lib\\site-packages\\sklearn\\model_selection\\_validation.py\", line 593, in _fit_and_score\n",
      "    estimator.fit(X_train, y_train, **fit_params)\n",
      "  File \"C:\\Users\\Trisna\\anaconda3\\lib\\site-packages\\sklearn\\pipeline.py\", line 346, in fit\n",
      "    self._final_estimator.fit(Xt, y, **fit_params_last_step)\n",
      "  File \"C:\\Users\\Trisna\\anaconda3\\lib\\site-packages\\sklearn\\naive_bayes.py\", line 207, in fit\n",
      "    X, y = self._validate_data(X, y)\n",
      "  File \"C:\\Users\\Trisna\\anaconda3\\lib\\site-packages\\sklearn\\base.py\", line 433, in _validate_data\n",
      "    X, y = check_X_y(X, y, **check_params)\n",
      "  File \"C:\\Users\\Trisna\\anaconda3\\lib\\site-packages\\sklearn\\utils\\validation.py\", line 63, in inner_f\n",
      "    return f(*args, **kwargs)\n",
      "  File \"C:\\Users\\Trisna\\anaconda3\\lib\\site-packages\\sklearn\\utils\\validation.py\", line 814, in check_X_y\n",
      "    X = check_array(X, accept_sparse=accept_sparse,\n",
      "  File \"C:\\Users\\Trisna\\anaconda3\\lib\\site-packages\\sklearn\\utils\\validation.py\", line 63, in inner_f\n",
      "    return f(*args, **kwargs)\n",
      "  File \"C:\\Users\\Trisna\\anaconda3\\lib\\site-packages\\sklearn\\utils\\validation.py\", line 593, in check_array\n",
      "    array = _ensure_sparse_format(array, accept_sparse=accept_sparse,\n",
      "  File \"C:\\Users\\Trisna\\anaconda3\\lib\\site-packages\\sklearn\\utils\\validation.py\", line 360, in _ensure_sparse_format\n",
      "    raise TypeError('A sparse matrix was passed, but dense '\n",
      "TypeError: A sparse matrix was passed, but dense data is required. Use X.toarray() to convert to a dense numpy array.\n",
      "\n",
      "  warnings.warn(\"Estimator fit failed. The score on this train-test\"\n",
      "C:\\Users\\Trisna\\anaconda3\\lib\\site-packages\\sklearn\\model_selection\\_validation.py:610: FitFailedWarning: Estimator fit failed. The score on this train-test partition for these parameters will be set to nan. Details: \n",
      "Traceback (most recent call last):\n",
      "  File \"C:\\Users\\Trisna\\anaconda3\\lib\\site-packages\\sklearn\\model_selection\\_validation.py\", line 593, in _fit_and_score\n",
      "    estimator.fit(X_train, y_train, **fit_params)\n",
      "  File \"C:\\Users\\Trisna\\anaconda3\\lib\\site-packages\\sklearn\\pipeline.py\", line 346, in fit\n",
      "    self._final_estimator.fit(Xt, y, **fit_params_last_step)\n",
      "  File \"C:\\Users\\Trisna\\anaconda3\\lib\\site-packages\\sklearn\\naive_bayes.py\", line 207, in fit\n",
      "    X, y = self._validate_data(X, y)\n",
      "  File \"C:\\Users\\Trisna\\anaconda3\\lib\\site-packages\\sklearn\\base.py\", line 433, in _validate_data\n",
      "    X, y = check_X_y(X, y, **check_params)\n",
      "  File \"C:\\Users\\Trisna\\anaconda3\\lib\\site-packages\\sklearn\\utils\\validation.py\", line 63, in inner_f\n",
      "    return f(*args, **kwargs)\n",
      "  File \"C:\\Users\\Trisna\\anaconda3\\lib\\site-packages\\sklearn\\utils\\validation.py\", line 814, in check_X_y\n",
      "    X = check_array(X, accept_sparse=accept_sparse,\n",
      "  File \"C:\\Users\\Trisna\\anaconda3\\lib\\site-packages\\sklearn\\utils\\validation.py\", line 63, in inner_f\n",
      "    return f(*args, **kwargs)\n",
      "  File \"C:\\Users\\Trisna\\anaconda3\\lib\\site-packages\\sklearn\\utils\\validation.py\", line 593, in check_array\n",
      "    array = _ensure_sparse_format(array, accept_sparse=accept_sparse,\n",
      "  File \"C:\\Users\\Trisna\\anaconda3\\lib\\site-packages\\sklearn\\utils\\validation.py\", line 360, in _ensure_sparse_format\n",
      "    raise TypeError('A sparse matrix was passed, but dense '\n",
      "TypeError: A sparse matrix was passed, but dense data is required. Use X.toarray() to convert to a dense numpy array.\n",
      "\n",
      "  warnings.warn(\"Estimator fit failed. The score on this train-test\"\n",
      "C:\\Users\\Trisna\\anaconda3\\lib\\site-packages\\sklearn\\model_selection\\_validation.py:610: FitFailedWarning: Estimator fit failed. The score on this train-test partition for these parameters will be set to nan. Details: \n",
      "Traceback (most recent call last):\n",
      "  File \"C:\\Users\\Trisna\\anaconda3\\lib\\site-packages\\sklearn\\model_selection\\_validation.py\", line 593, in _fit_and_score\n",
      "    estimator.fit(X_train, y_train, **fit_params)\n",
      "  File \"C:\\Users\\Trisna\\anaconda3\\lib\\site-packages\\sklearn\\pipeline.py\", line 346, in fit\n",
      "    self._final_estimator.fit(Xt, y, **fit_params_last_step)\n",
      "  File \"C:\\Users\\Trisna\\anaconda3\\lib\\site-packages\\sklearn\\naive_bayes.py\", line 207, in fit\n",
      "    X, y = self._validate_data(X, y)\n",
      "  File \"C:\\Users\\Trisna\\anaconda3\\lib\\site-packages\\sklearn\\base.py\", line 433, in _validate_data\n",
      "    X, y = check_X_y(X, y, **check_params)\n",
      "  File \"C:\\Users\\Trisna\\anaconda3\\lib\\site-packages\\sklearn\\utils\\validation.py\", line 63, in inner_f\n",
      "    return f(*args, **kwargs)\n",
      "  File \"C:\\Users\\Trisna\\anaconda3\\lib\\site-packages\\sklearn\\utils\\validation.py\", line 814, in check_X_y\n",
      "    X = check_array(X, accept_sparse=accept_sparse,\n",
      "  File \"C:\\Users\\Trisna\\anaconda3\\lib\\site-packages\\sklearn\\utils\\validation.py\", line 63, in inner_f\n",
      "    return f(*args, **kwargs)\n",
      "  File \"C:\\Users\\Trisna\\anaconda3\\lib\\site-packages\\sklearn\\utils\\validation.py\", line 593, in check_array\n",
      "    array = _ensure_sparse_format(array, accept_sparse=accept_sparse,\n",
      "  File \"C:\\Users\\Trisna\\anaconda3\\lib\\site-packages\\sklearn\\utils\\validation.py\", line 360, in _ensure_sparse_format\n",
      "    raise TypeError('A sparse matrix was passed, but dense '\n",
      "TypeError: A sparse matrix was passed, but dense data is required. Use X.toarray() to convert to a dense numpy array.\n",
      "\n",
      "  warnings.warn(\"Estimator fit failed. The score on this train-test\"\n"
     ]
    },
    {
     "name": "stderr",
     "output_type": "stream",
     "text": [
      "C:\\Users\\Trisna\\anaconda3\\lib\\site-packages\\sklearn\\model_selection\\_validation.py:610: FitFailedWarning: Estimator fit failed. The score on this train-test partition for these parameters will be set to nan. Details: \n",
      "Traceback (most recent call last):\n",
      "  File \"C:\\Users\\Trisna\\anaconda3\\lib\\site-packages\\sklearn\\model_selection\\_validation.py\", line 593, in _fit_and_score\n",
      "    estimator.fit(X_train, y_train, **fit_params)\n",
      "  File \"C:\\Users\\Trisna\\anaconda3\\lib\\site-packages\\sklearn\\pipeline.py\", line 346, in fit\n",
      "    self._final_estimator.fit(Xt, y, **fit_params_last_step)\n",
      "  File \"C:\\Users\\Trisna\\anaconda3\\lib\\site-packages\\sklearn\\naive_bayes.py\", line 207, in fit\n",
      "    X, y = self._validate_data(X, y)\n",
      "  File \"C:\\Users\\Trisna\\anaconda3\\lib\\site-packages\\sklearn\\base.py\", line 433, in _validate_data\n",
      "    X, y = check_X_y(X, y, **check_params)\n",
      "  File \"C:\\Users\\Trisna\\anaconda3\\lib\\site-packages\\sklearn\\utils\\validation.py\", line 63, in inner_f\n",
      "    return f(*args, **kwargs)\n",
      "  File \"C:\\Users\\Trisna\\anaconda3\\lib\\site-packages\\sklearn\\utils\\validation.py\", line 814, in check_X_y\n",
      "    X = check_array(X, accept_sparse=accept_sparse,\n",
      "  File \"C:\\Users\\Trisna\\anaconda3\\lib\\site-packages\\sklearn\\utils\\validation.py\", line 63, in inner_f\n",
      "    return f(*args, **kwargs)\n",
      "  File \"C:\\Users\\Trisna\\anaconda3\\lib\\site-packages\\sklearn\\utils\\validation.py\", line 593, in check_array\n",
      "    array = _ensure_sparse_format(array, accept_sparse=accept_sparse,\n",
      "  File \"C:\\Users\\Trisna\\anaconda3\\lib\\site-packages\\sklearn\\utils\\validation.py\", line 360, in _ensure_sparse_format\n",
      "    raise TypeError('A sparse matrix was passed, but dense '\n",
      "TypeError: A sparse matrix was passed, but dense data is required. Use X.toarray() to convert to a dense numpy array.\n",
      "\n",
      "  warnings.warn(\"Estimator fit failed. The score on this train-test\"\n"
     ]
    }
   ],
   "source": [
    "results = {model_name:None for model_name in models}\n",
    "for name, clf in models.items():\n",
    "    model  =  Pipeline(steps=[('preprocessor',transformer), ('clf',clf)])\n",
    "    scores = cross_val_score(model, X, y, scoring='accuracy', cv=10)\n",
    "    results[name] = scores"
   ]
  },
  {
   "cell_type": "code",
   "execution_count": 87,
   "id": "4adfa126",
   "metadata": {},
   "outputs": [
    {
     "name": "stdout",
     "output_type": "stream",
     "text": [
      "lr: 0.9292624265098878\n",
      "dtree: 0.8898984500267237\n",
      "svc: 0.8946285408872262\n",
      "gnb: nan\n"
     ]
    }
   ],
   "source": [
    "for model_name, result in results.items():\n",
    "    print(f'{model_name}: {result.mean()}')"
   ]
  },
  {
   "cell_type": "code",
   "execution_count": 88,
   "id": "bc6d02cf",
   "metadata": {},
   "outputs": [],
   "source": [
    "model = Pipeline(steps=[('preprocessor',transformer), ('clf',models['lr'])])"
   ]
  },
  {
   "cell_type": "code",
   "execution_count": 89,
   "id": "70434e44",
   "metadata": {},
   "outputs": [
    {
     "data": {
      "text/plain": [
       "Pipeline(steps=[('preprocessor',\n",
       "                 Pipeline(steps=[('stemmer_tfidf',\n",
       "                                  TfidfVectorizer(analyzer=<function stemmed_words at 0x0000023E919CC040>,\n",
       "                                                  max_features=3700,\n",
       "                                                  stop_words=['de', 'a', 'o',\n",
       "                                                              'que', 'e', 'é',\n",
       "                                                              'do', 'da', 'em',\n",
       "                                                              'um', 'para',\n",
       "                                                              'com', 'não',\n",
       "                                                              'uma', 'os', 'no',\n",
       "                                                              'se', 'na', 'por',\n",
       "                                                              'mais', 'as',\n",
       "                                                              'dos', 'como',\n",
       "                                                              'mas', 'ao',\n",
       "                                                              'ele', 'das', 'à',\n",
       "                                                              'seu', 'sua', ...]))])),\n",
       "                ('clf', LogisticRegression(max_iter=1000))])"
      ]
     },
     "execution_count": 89,
     "metadata": {},
     "output_type": "execute_result"
    }
   ],
   "source": [
    "model.fit(X,y)"
   ]
  },
  {
   "cell_type": "code",
   "execution_count": 90,
   "id": "e8ebd0e7",
   "metadata": {},
   "outputs": [],
   "source": [
    "pickle.dump(model,open('lr_model.pkl','wb'))"
   ]
  },
  {
   "cell_type": "code",
   "execution_count": null,
   "id": "e546fd00",
   "metadata": {},
   "outputs": [],
   "source": []
  },
  {
   "cell_type": "code",
   "execution_count": null,
   "id": "4ea60095",
   "metadata": {},
   "outputs": [],
   "source": []
  }
 ],
 "metadata": {
  "kernelspec": {
   "display_name": "Python 3",
   "language": "python",
   "name": "python3"
  },
  "language_info": {
   "codemirror_mode": {
    "name": "ipython",
    "version": 3
   },
   "file_extension": ".py",
   "mimetype": "text/x-python",
   "name": "python",
   "nbconvert_exporter": "python",
   "pygments_lexer": "ipython3",
   "version": "3.8.8"
  }
 },
 "nbformat": 4,
 "nbformat_minor": 5
}
